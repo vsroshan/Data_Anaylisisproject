{
 "cells": [
  {
   "cell_type": "code",
   "execution_count": null,
   "metadata": {},
   "outputs": [],
   "source": [
    "#Creating Database Covid\n",
    "\n",
    "import mysql.connector\n",
    "mydb = mysql.connector.connect(\n",
    "  host=\"localhost\",\n",
    "  user=\"root\",\n",
    "  passwd=\"1234\",\n",
    "  database=\"covid\"  \n",
    ")\n",
    "\n",
    "mycursor = mydb.cursor()\n",
    "\n",
    "mycursor.execute(\"CREATE DATABASE covid\")\n",
    "mydb.commit()\n",
    "\n",
    "#Creating Table Users\n",
    "mycursor.execute(\"CREATE TABLE users (uname VARCHAR(10), pwd VARCHAR(8))\")\n",
    "mydb.commit()\n",
    "#inserting Records in to the table Users\n",
    "sql = \"INSERT INTO users (uname, pwd) VALUES (%s, %s)\"\n",
    "val = (\"Admin\", \"admin123\")\n",
    "mycursor.execute(sql,val)\n",
    "mydb.commit()"
   ]
  }
 ],
 "metadata": {
  "kernelspec": {
   "display_name": "Python 3",
   "language": "python",
   "name": "python3"
  },
  "language_info": {
   "codemirror_mode": {
    "name": "ipython",
    "version": 3
   },
   "file_extension": ".py",
   "mimetype": "text/x-python",
   "name": "python",
   "nbconvert_exporter": "python",
   "pygments_lexer": "ipython3",
   "version": "3.7.3"
  }
 },
 "nbformat": 4,
 "nbformat_minor": 2
}
